{
 "cells": [
  {
   "cell_type": "code",
   "execution_count": 1,
   "metadata": {
    "collapsed": true
   },
   "outputs": [],
   "source": [
    "%matplotlib inline\n",
    "import matplotlib.pyplot as plt\n",
    "import pandas as pd\n",
    "import numpy as np\n",
    "import scipy\n",
    "from astropy.io import ascii\n",
    "from astropy.table import Table, vstack\n",
    "from scipy import stats"
   ]
  },
  {
   "cell_type": "code",
   "execution_count": 2,
   "metadata": {
    "collapsed": true
   },
   "outputs": [],
   "source": [
    "names = ['Aadit', 'Adam', 'Annette', 'Diamanta', 'Isaac', 'Isobel', 'Jay', 'Joceline', 'Keith', 'Meredith', 'Regina', 'Ross', 'Scott', 'Thaddeus']"
   ]
  },
  {
   "cell_type": "code",
   "execution_count": 4,
   "metadata": {
    "collapsed": false
   },
   "outputs": [],
   "source": [
    "abroad = ascii.read(\"abroad.csv\", names=names)\n",
    "home = ascii.read(\"hrishi_votes.csv\", names=names)\n",
    "all_data = vstack([home, abroad])"
   ]
  },
  {
   "cell_type": "code",
   "execution_count": 5,
   "metadata": {
    "collapsed": true
   },
   "outputs": [],
   "source": [
    "#to remove \"No Vote\",\"No\",\"\"(blank) and replace them with \"15\"(lower than the lowest possible preference)\n",
    "\n",
    "def strip_strings(x):\n",
    "    for index in range(0,len(x)):\n",
    "        for second_index in range(0,len(x[0])):\n",
    "            if \"=>\" in x[index][second_index]:\n",
    "                x[index][second_index] = (x[index][second_index]).split(\"=>\")[1].replace('\"',\"\")\n",
    "            \n",
    "    for index in range(0,len(x)):\n",
    "        for second_index in range(0,len(x[0])):\n",
    "            if (x[index][second_index]==\"NO VOTE\")|(x[index][second_index]==\"\")|(x[index][second_index]==\"NO\"):\n",
    "                x[index][second_index]= int(15)\n",
    "            else:\n",
    "                x[index][second_index]= int(x[index][second_index])"
   ]
  },
  {
   "cell_type": "code",
   "execution_count": 6,
   "metadata": {
    "collapsed": true
   },
   "outputs": [],
   "source": [
    "strip_strings(all_data)"
   ]
  },
  {
   "cell_type": "code",
   "execution_count": 7,
   "metadata": {
    "collapsed": true
   },
   "outputs": [],
   "source": [
    "from __future__ import print_function\n",
    "import numpy as np\n",
    "from itertools import combinations, permutations\n",
    "from lp_solve import lp_solve\n",
    "import csv"
   ]
  },
  {
   "cell_type": "code",
   "execution_count": 10,
   "metadata": {
    "collapsed": true
   },
   "outputs": [],
   "source": [
    "def kendalltau_dist(rank_a, rank_b):\n",
    "    tau = 0\n",
    "    n_candidates = len(rank_a)\n",
    "    for i, j in combinations(range(n_candidates), 2):\n",
    "        tau += (np.sign(rank_a[i] - rank_a[j]) ==\n",
    "                -np.sign(rank_b[i] - rank_b[j]))\n",
    "    return tau\n",
    "\n",
    "#graph-distance conversion of ranks\n",
    "def _build_graph(ranks):\n",
    "    n_voters, n_candidates = ranks.shape\n",
    "    edge_weights = np.zeros((n_candidates, n_candidates))\n",
    "    for i, j in combinations(range(n_candidates), 2):\n",
    "        preference = ranks[:, i] - ranks[:, j]\n",
    "        h_ij = np.sum(preference < 0)  # prefers i to j\n",
    "        h_ji = np.sum(preference > 0)  # prefers j to i\n",
    "        if h_ij > h_ji:\n",
    "            edge_weights[i, j] = h_ij - h_ji\n",
    "        elif h_ij < h_ji:\n",
    "            edge_weights[j, i] = h_ji - h_ij\n",
    "    return edge_weights\n",
    "\n",
    "#function that actually calculates k-y ranks by implementing fancy integer programming\n",
    "def rankaggr_lp(ranks):\n",
    "    \"\"\"Kemeny-Young optimal rank aggregation\"\"\"\n",
    "\n",
    "    n_voters, n_candidates = ranks.shape\n",
    "    \n",
    "    # maximize c.T * x\n",
    "    edge_weights = _build_graph(ranks)\n",
    "    c = -1 * edge_weights.ravel()  \n",
    "\n",
    "    idx = lambda i, j: n_candidates * i + j\n",
    "\n",
    "    # constraints for every pair\n",
    "    pairwise_constraints = np.zeros(((n_candidates * (n_candidates - 1)) / 2,\n",
    "                                     n_candidates ** 2))\n",
    "    for row, (i, j) in zip(pairwise_constraints,\n",
    "                           combinations(range(n_candidates), 2)):\n",
    "        row[[idx(i, j), idx(j, i)]] = 1\n",
    "\n",
    "    # and for every cycle of length 3\n",
    "    triangle_constraints = np.zeros(((n_candidates * (n_candidates - 1) *\n",
    "                                     (n_candidates - 2)),\n",
    "                                     n_candidates ** 2))\n",
    "    for row, (i, j, k) in zip(triangle_constraints,\n",
    "                              permutations(range(n_candidates), 3)):\n",
    "        row[[idx(i, j), idx(j, k), idx(k, i)]] = 1\n",
    "\n",
    "    constraints = np.vstack([pairwise_constraints, triangle_constraints])\n",
    "    constraint_rhs = np.hstack([np.ones(len(pairwise_constraints)),\n",
    "                                np.ones(len(triangle_constraints))])\n",
    "    constraint_signs = np.hstack([np.zeros(len(pairwise_constraints)),  # ==\n",
    "                                  np.ones(len(triangle_constraints))])  # >=\n",
    "\n",
    "    obj, x, duals = lp_solve(c, constraints, constraint_rhs, constraint_signs,\n",
    "                             xint=range(1, 1 + n_candidates ** 2))\n",
    "\n",
    "    x = np.array(x).reshape((n_candidates, n_candidates))\n",
    "    aggr_rank = x.sum(axis=1)\n",
    "\n",
    "    return obj, aggr_rank"
   ]
  },
  {
   "cell_type": "code",
   "execution_count": 12,
   "metadata": {
    "collapsed": true
   },
   "outputs": [],
   "source": [
    "import csv\n",
    "ascii.write(all_data, 'values_hrishi.dat')\n",
    "\n",
    "with open('test_file_hrishi.csv', 'w') as csvfile:\n",
    "    writer = csv.writer(csvfile)\n",
    "    [writer.writerow(r) for r in ascii.read('values_hrishi.dat')]\n",
    "    \n",
    "with open('test_file_hrishi.csv', 'r') as csvfile:\n",
    "    reader = csv.reader(csvfile)\n",
    "    table = [[int(e) for e in r] for r in reader]"
   ]
  },
  {
   "cell_type": "code",
   "execution_count": 13,
   "metadata": {
    "collapsed": false
   },
   "outputs": [
    {
     "name": "stdout",
     "output_type": "stream",
     "text": [
      "A Kemeny-Young aggregation with score 7785 is: Regina, Joceline, Annette, Meredith, Jay, Isobel, Diamanta, Isaac, Scott, Ross, Keith, Adam, Aadit, Thaddeus\n"
     ]
    },
    {
     "name": "stderr",
     "output_type": "stream",
     "text": [
      "C:\\Anaconda\\lib\\site-packages\\lp_solve.py:38: FutureWarning: comparison to `None` will result in an elementwise object comparison in the future.\n",
      "  if f == None:\n"
     ]
    }
   ],
   "source": [
    "#and now to the YNC case!\n",
    "\n",
    "names = ['Aadit', 'Adam', 'Annette', 'Diamanta', 'Isaac', 'Isobel', 'Jay', 'Joceline', 'Keith',\\\n",
    "         'Meredith', 'Regina', 'Ross', 'Scott', 'Thaddeus']\n",
    "\n",
    "with open('test_file_hrishi.csv', 'r') as csvfile:\n",
    "    reader = csv.reader(csvfile)\n",
    "    prefs = np.array([[int(e) for e in r] for r in reader])\n",
    "\n",
    "#this gives the optimal ranking\n",
    "\n",
    "_, aggr = rankaggr_lp(prefs)\n",
    "score = np.sum(kendalltau_dist(aggr, rank) for rank in prefs)\n",
    "print(\"A Kemeny-Young aggregation with score {} is: {}\".format(\n",
    "    score,\n",
    "    \", \".join(names[i] for i in np.argsort(aggr))))"
   ]
  },
  {
   "cell_type": "code",
   "execution_count": null,
   "metadata": {
    "collapsed": true
   },
   "outputs": [],
   "source": []
  }
 ],
 "metadata": {
  "kernelspec": {
   "display_name": "Python 2",
   "language": "python",
   "name": "python2"
  },
  "language_info": {
   "codemirror_mode": {
    "name": "ipython",
    "version": 2
   },
   "file_extension": ".py",
   "mimetype": "text/x-python",
   "name": "python",
   "nbconvert_exporter": "python",
   "pygments_lexer": "ipython2",
   "version": "2.7.11"
  }
 },
 "nbformat": 4,
 "nbformat_minor": 0
}
