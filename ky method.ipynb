{
 "cells": [
  {
   "cell_type": "code",
   "execution_count": 80,
   "metadata": {
    "collapsed": true
   },
   "outputs": [],
   "source": [
    "%matplotlib inline\n",
    "import matplotlib.pyplot as plt\n",
    "import pandas as pd\n",
    "import numpy as np\n",
    "from astropy.io import ascii\n",
    "from scipy import stats"
   ]
  },
  {
   "cell_type": "code",
   "execution_count": 161,
   "metadata": {
    "collapsed": true
   },
   "outputs": [],
   "source": [
    "home = ascii.read(\"home.csv\", names=names)"
   ]
  },
  {
   "cell_type": "code",
   "execution_count": 162,
   "metadata": {
    "collapsed": false
   },
   "outputs": [
    {
     "data": {
      "text/html": [
       "&lt;Table length=276&gt;\n",
       "<table id=\"table237652512\">\n",
       "<thead><tr><th>Aadit</th><th>Adam</th><th>Annette</th><th>Diamanta</th><th>Isaac</th><th>Isobel</th><th>Jay</th><th>Joceline</th><th>Keith</th><th>Meredith</th><th>Regina</th><th>Ross</th><th>Scott</th><th>Thaddeus</th></tr></thead>\n",
       "<thead><tr><th>str21</th><th>str19</th><th>str19</th><th>str22</th><th>str18</th><th>str19</th><th>str17</th><th>str22</th><th>str19</th><th>str22</th><th>str25</th><th>str20</th><th>str21</th><th>str27</th></tr></thead>\n",
       "<tr><td>&quot;Aadit Gupta=&gt;6</td><td>Adam Tonks=&gt;11</td><td>Annette Wu=&gt;3</td><td>Diamanta Lavi=&gt;13</td><td>Isaac Lee=&gt;14</td><td>Isobel Ngo=&gt;</td><td>Jay Lusk=&gt;NO VOTE</td><td>Joceline Yong=&gt;5</td><td>Keith Yaow=&gt;2</td><td>Meredith Jett=&gt;5</td><td>Regina Marie Lee=&gt;7</td><td>Ross Rauber=&gt;12</td><td>Scott Currie=&gt;6</td><td>Thaddeus Cochrane=&gt;1&quot;</td></tr>\n",
       "<tr><td>&quot;Aadit Gupta=&gt;8</td><td>Adam Tonks=&gt;NO VOTE</td><td>Annette Wu=&gt;4</td><td>Diamanta Lavi=&gt;NO VOTE</td><td>Isaac Lee=&gt;2</td><td>Isobel Ngo=&gt;1</td><td>Jay Lusk=&gt;6</td><td>Joceline Yong=&gt;7</td><td>Keith Yaow=&gt;NO VOTE</td><td>Meredith Jett=&gt;5</td><td>Regina Marie Lee=&gt;3</td><td>Ross Rauber=&gt;5</td><td>Scott Currie=&gt;NO VOTE</td><td>Thaddeus Cochrane=&gt;NO VOTE&quot;</td></tr>\n",
       "<tr><td>&quot;Aadit Gupta=&gt;NO VOTE</td><td>Adam Tonks=&gt;NO VOTE</td><td>Annette Wu=&gt;NO VOTE</td><td>Diamanta Lavi=&gt;NO VOTE</td><td>Isaac Lee=&gt;NO VOTE</td><td>Isobel Ngo=&gt;NO VOTE</td><td>Jay Lusk=&gt;1</td><td>Joceline Yong=&gt;NO VOTE</td><td>Keith Yaow=&gt;NO VOTE</td><td>Meredith Jett=&gt;NO VOTE</td><td>Regina Marie Lee=&gt;3</td><td>Ross Rauber=&gt;NO VOTE</td><td>Scott Currie=&gt;2</td><td>Thaddeus Cochrane=&gt;NO VOTE&quot;</td></tr>\n",
       "<tr><td>&quot;Aadit Gupta=&gt;NO VOTE</td><td>Adam Tonks=&gt;NO VOTE</td><td>Annette Wu=&gt;4</td><td>Diamanta Lavi=&gt;5</td><td>Isaac Lee=&gt;NO VOTE</td><td>Isobel Ngo=&gt;NO VOTE</td><td>Jay Lusk=&gt;2</td><td>Joceline Yong=&gt;NO VOTE</td><td>Keith Yaow=&gt;NO VOTE</td><td>Meredith Jett=&gt;1</td><td>Regina Marie Lee=&gt;3</td><td>Ross Rauber=&gt;6</td><td>Scott Currie=&gt;NO VOTE</td><td>Thaddeus Cochrane=&gt;NO VOTE&quot;</td></tr>\n",
       "<tr><td>&quot;Aadit Gupta=&gt;NO VOTE</td><td>Adam Tonks=&gt;NO VOTE</td><td>Annette Wu=&gt;NO VOTE</td><td>Diamanta Lavi=&gt;NO VOTE</td><td>Isaac Lee=&gt;1</td><td>Isobel Ngo=&gt;2</td><td>Jay Lusk=&gt;3</td><td>Joceline Yong=&gt;NO VOTE</td><td>Keith Yaow=&gt;6</td><td>Meredith Jett=&gt;NO VOTE</td><td>Regina Marie Lee=&gt;4</td><td>Ross Rauber=&gt;5</td><td>Scott Currie=&gt;NO VOTE</td><td>Thaddeus Cochrane=&gt;7&quot;</td></tr>\n",
       "<tr><td>&quot;Aadit Gupta=&gt;NO VOTE</td><td>Adam Tonks=&gt;10</td><td>Annette Wu=&gt;9</td><td>Diamanta Lavi=&gt;2</td><td>Isaac Lee=&gt;1</td><td>Isobel Ngo=&gt;3</td><td>Jay Lusk=&gt;5</td><td>Joceline Yong=&gt;4</td><td>Keith Yaow=&gt;11</td><td>Meredith Jett=&gt;7</td><td>Regina Marie Lee=&gt;6</td><td>Ross Rauber=&gt;8</td><td>Scott Currie=&gt;NO VOTE</td><td>Thaddeus Cochrane=&gt;12&quot;</td></tr>\n",
       "<tr><td>&quot;Aadit Gupta=&gt;11</td><td>Adam Tonks=&gt;10</td><td>Annette Wu=&gt;3</td><td>Diamanta Lavi=&gt;6</td><td>Isaac Lee=&gt;7</td><td>Isobel Ngo=&gt;12</td><td>Jay Lusk=&gt;8</td><td>Joceline Yong=&gt;5</td><td>Keith Yaow=&gt;9</td><td>Meredith Jett=&gt;2</td><td>Regina Marie Lee=&gt;4</td><td>Ross Rauber=&gt;13</td><td>Scott Currie=&gt;1</td><td>Thaddeus Cochrane=&gt;NO VOTE&quot;</td></tr>\n",
       "<tr><td>&quot;Aadit Gupta=&gt;14</td><td>Adam Tonks=&gt;13</td><td>Annette Wu=&gt;12</td><td>Diamanta Lavi=&gt;11</td><td>Isaac Lee=&gt;1</td><td>Isobel Ngo=&gt;2</td><td>Jay Lusk=&gt;3</td><td>Joceline Yong=&gt;6</td><td>Keith Yaow=&gt;8</td><td>Meredith Jett=&gt;7</td><td>Regina Marie Lee=&gt;4</td><td>Ross Rauber=&gt;9</td><td>Scott Currie=&gt;5</td><td>Thaddeus Cochrane=&gt;10&quot;</td></tr>\n",
       "<tr><td>&quot;Aadit Gupta=&gt;4</td><td>Adam Tonks=&gt;14</td><td>Annette Wu=&gt;8</td><td>Diamanta Lavi=&gt;13</td><td>Isaac Lee=&gt;1</td><td>Isobel Ngo=&gt;11</td><td>Jay Lusk=&gt;5</td><td>Joceline Yong=&gt;2</td><td>Keith Yaow=&gt;9</td><td>Meredith Jett=&gt;3</td><td>Regina Marie Lee=&gt;10</td><td>Ross Rauber=&gt;6</td><td>Scott Currie=&gt;7</td><td>Thaddeus Cochrane=&gt;12&quot;</td></tr>\n",
       "<tr><td>&quot;Aadit Gupta=&gt;11</td><td>Adam Tonks=&gt;10</td><td>Annette Wu=&gt;4</td><td>Diamanta Lavi=&gt;6</td><td>Isaac Lee=&gt;9</td><td>Isobel Ngo=&gt;5</td><td>Jay Lusk=&gt;7</td><td>Joceline Yong=&gt;8</td><td>Keith Yaow=&gt;12</td><td>Meredith Jett=&gt;1</td><td>Regina Marie Lee=&gt;2</td><td>Ross Rauber=&gt;13</td><td>Scott Currie=&gt;3</td><td>Thaddeus Cochrane=&gt;NO VOTE&quot;</td></tr>\n",
       "<tr><td>...</td><td>...</td><td>...</td><td>...</td><td>...</td><td>...</td><td>...</td><td>...</td><td>...</td><td>...</td><td>...</td><td>...</td><td>...</td><td>...</td></tr>\n",
       "<tr><td>&quot;Aadit Gupta=&gt;</td><td>Adam Tonks=&gt;</td><td>Annette Wu=&gt;</td><td>Diamanta Lavi=&gt;</td><td>Isaac Lee=&gt;</td><td>Isobel Ngo=&gt;</td><td>Jay Lusk=&gt;</td><td>Joceline Yong=&gt;</td><td>Keith Yaow=&gt;</td><td>Meredith Jett=&gt;</td><td>Regina Marie Lee=&gt;</td><td>Ross Rauber=&gt;</td><td>Scott Currie=&gt;</td><td>Thaddeus Cochrane=&gt;&quot;</td></tr>\n",
       "<tr><td>&quot;Aadit Gupta=&gt;6</td><td>Adam Tonks=&gt;11</td><td>Annette Wu=&gt;9</td><td>Diamanta Lavi=&gt;10</td><td>Isaac Lee=&gt;7</td><td>Isobel Ngo=&gt;8</td><td>Jay Lusk=&gt;NO VOTE</td><td>Joceline Yong=&gt;2</td><td>Keith Yaow=&gt;4</td><td>Meredith Jett=&gt;5</td><td>Regina Marie Lee=&gt;1</td><td>Ross Rauber=&gt;3</td><td>Scott Currie=&gt;NO VOTE</td><td>Thaddeus Cochrane=&gt;NO VOTE&quot;</td></tr>\n",
       "<tr><td>&quot;Aadit Gupta=&gt;8</td><td>Adam Tonks=&gt;7</td><td>Annette Wu=&gt;9</td><td>Diamanta Lavi=&gt;10</td><td>Isaac Lee=&gt;1</td><td>Isobel Ngo=&gt;2</td><td>Jay Lusk=&gt;5</td><td>Joceline Yong=&gt;12</td><td>Keith Yaow=&gt;13</td><td>Meredith Jett=&gt;3</td><td>Regina Marie Lee=&gt;6</td><td>Ross Rauber=&gt;4</td><td>Scott Currie=&gt;11</td><td>Thaddeus Cochrane=&gt;14&quot;</td></tr>\n",
       "<tr><td>&quot;Aadit Gupta=&gt;10</td><td>Adam Tonks=&gt;12</td><td>Annette Wu=&gt;2</td><td>Diamanta Lavi=&gt;9</td><td>Isaac Lee=&gt;3</td><td>Isobel Ngo=&gt;4</td><td>Jay Lusk=&gt;1</td><td>Joceline Yong=&gt;5</td><td>Keith Yaow=&gt;8</td><td>Meredith Jett=&gt;11</td><td>Regina Marie Lee=&gt;6</td><td>Ross Rauber=&gt;7</td><td>Scott Currie=&gt;13</td><td>Thaddeus Cochrane=&gt;14&quot;</td></tr>\n",
       "<tr><td>&quot;Aadit Gupta=&gt;NO VOTE</td><td>Adam Tonks=&gt;5</td><td>Annette Wu=&gt;10</td><td>Diamanta Lavi=&gt;9</td><td>Isaac Lee=&gt;2</td><td>Isobel Ngo=&gt;1</td><td>Jay Lusk=&gt;7</td><td>Joceline Yong=&gt;8</td><td>Keith Yaow=&gt;11</td><td>Meredith Jett=&gt;12</td><td>Regina Marie Lee=&gt;6</td><td>Ross Rauber=&gt;NO VOTE</td><td>Scott Currie=&gt;4</td><td>Thaddeus Cochrane=&gt;3&quot;</td></tr>\n",
       "<tr><td>&quot;Aadit Gupta=&gt;7</td><td>Adam Tonks=&gt;13</td><td>Annette Wu=&gt;9</td><td>Diamanta Lavi=&gt;12</td><td>Isaac Lee=&gt;2</td><td>Isobel Ngo=&gt;1</td><td>Jay Lusk=&gt;5</td><td>Joceline Yong=&gt;11</td><td>Keith Yaow=&gt;10</td><td>Meredith Jett=&gt;8</td><td>Regina Marie Lee=&gt;6</td><td>Ross Rauber=&gt;3</td><td>Scott Currie=&gt;4</td><td>Thaddeus Cochrane=&gt;14&quot;</td></tr>\n",
       "<tr><td>&quot;Aadit Gupta=&gt;11</td><td>Adam Tonks=&gt;6</td><td>Annette Wu=&gt;5</td><td>Diamanta Lavi=&gt;2</td><td>Isaac Lee=&gt;8</td><td>Isobel Ngo=&gt;4</td><td>Jay Lusk=&gt;1</td><td>Joceline Yong=&gt;7</td><td>Keith Yaow=&gt;10</td><td>Meredith Jett=&gt;3</td><td>Regina Marie Lee=&gt;9</td><td>Ross Rauber=&gt;NO VOTE</td><td>Scott Currie=&gt;12</td><td>Thaddeus Cochrane=&gt;NO VOTE&quot;</td></tr>\n",
       "<tr><td>&quot;Aadit Gupta=&gt;14</td><td>Adam Tonks=&gt;13</td><td>Annette Wu=&gt;5</td><td>Diamanta Lavi=&gt;9</td><td>Isaac Lee=&gt;8</td><td>Isobel Ngo=&gt;7</td><td>Jay Lusk=&gt;4</td><td>Joceline Yong=&gt;6</td><td>Keith Yaow=&gt;12</td><td>Meredith Jett=&gt;1</td><td>Regina Marie Lee=&gt;3</td><td>Ross Rauber=&gt;11</td><td>Scott Currie=&gt;2</td><td>Thaddeus Cochrane=&gt;10&quot;</td></tr>\n",
       "<tr><td>&quot;Aadit Gupta=&gt;7</td><td>Adam Tonks=&gt;NO VOTE</td><td>Annette Wu=&gt;6</td><td>Diamanta Lavi=&gt;NO VOTE</td><td>Isaac Lee=&gt;10</td><td>Isobel Ngo=&gt;1</td><td>Jay Lusk=&gt;13</td><td>Joceline Yong=&gt;5</td><td>Keith Yaow=&gt;11</td><td>Meredith Jett=&gt;4</td><td>Regina Marie Lee=&gt;2</td><td>Ross Rauber=&gt;8</td><td>Scott Currie=&gt;3</td><td>Thaddeus Cochrane=&gt;NO VOTE&quot;</td></tr>\n",
       "<tr><td>&quot;Aadit Gupta=&gt;NO VOTE</td><td>Adam Tonks=&gt;2</td><td>Annette Wu=&gt;1</td><td>Diamanta Lavi=&gt;6</td><td>Isaac Lee=&gt;NO VOTE</td><td>Isobel Ngo=&gt;NO VOTE</td><td>Jay Lusk=&gt;NO VOTE</td><td>Joceline Yong=&gt;4</td><td>Keith Yaow=&gt;NO VOTE</td><td>Meredith Jett=&gt;NO VOTE</td><td>Regina Marie Lee=&gt;7</td><td>Ross Rauber=&gt;8</td><td>Scott Currie=&gt;5</td><td>Thaddeus Cochrane=&gt;3&quot;</td></tr>\n",
       "</table>"
      ],
      "text/plain": [
       "<Table length=276>\n",
       "        Aadit                 Adam        ...           Thaddeus         \n",
       "        str21                str19        ...            str27           \n",
       "--------------------- ------------------- ... ---------------------------\n",
       "      \"Aadit Gupta=>6      Adam Tonks=>11 ...       Thaddeus Cochrane=>1\"\n",
       "      \"Aadit Gupta=>8 Adam Tonks=>NO VOTE ... Thaddeus Cochrane=>NO VOTE\"\n",
       "\"Aadit Gupta=>NO VOTE Adam Tonks=>NO VOTE ... Thaddeus Cochrane=>NO VOTE\"\n",
       "\"Aadit Gupta=>NO VOTE Adam Tonks=>NO VOTE ... Thaddeus Cochrane=>NO VOTE\"\n",
       "\"Aadit Gupta=>NO VOTE Adam Tonks=>NO VOTE ...       Thaddeus Cochrane=>7\"\n",
       "\"Aadit Gupta=>NO VOTE      Adam Tonks=>10 ...      Thaddeus Cochrane=>12\"\n",
       "     \"Aadit Gupta=>11      Adam Tonks=>10 ... Thaddeus Cochrane=>NO VOTE\"\n",
       "     \"Aadit Gupta=>14      Adam Tonks=>13 ...      Thaddeus Cochrane=>10\"\n",
       "      \"Aadit Gupta=>4      Adam Tonks=>14 ...      Thaddeus Cochrane=>12\"\n",
       "     \"Aadit Gupta=>11      Adam Tonks=>10 ... Thaddeus Cochrane=>NO VOTE\"\n",
       "                  ...                 ... ...                         ...\n",
       "       \"Aadit Gupta=>        Adam Tonks=> ...        Thaddeus Cochrane=>\"\n",
       "      \"Aadit Gupta=>6      Adam Tonks=>11 ... Thaddeus Cochrane=>NO VOTE\"\n",
       "      \"Aadit Gupta=>8       Adam Tonks=>7 ...      Thaddeus Cochrane=>14\"\n",
       "     \"Aadit Gupta=>10      Adam Tonks=>12 ...      Thaddeus Cochrane=>14\"\n",
       "\"Aadit Gupta=>NO VOTE       Adam Tonks=>5 ...       Thaddeus Cochrane=>3\"\n",
       "      \"Aadit Gupta=>7      Adam Tonks=>13 ...      Thaddeus Cochrane=>14\"\n",
       "     \"Aadit Gupta=>11       Adam Tonks=>6 ... Thaddeus Cochrane=>NO VOTE\"\n",
       "     \"Aadit Gupta=>14      Adam Tonks=>13 ...      Thaddeus Cochrane=>10\"\n",
       "      \"Aadit Gupta=>7 Adam Tonks=>NO VOTE ... Thaddeus Cochrane=>NO VOTE\"\n",
       "\"Aadit Gupta=>NO VOTE       Adam Tonks=>2 ...       Thaddeus Cochrane=>3\""
      ]
     },
     "execution_count": 162,
     "metadata": {},
     "output_type": "execute_result"
    }
   ],
   "source": [
    "home"
   ]
  },
  {
   "cell_type": "code",
   "execution_count": 163,
   "metadata": {
    "collapsed": false,
    "scrolled": true
   },
   "outputs": [
    {
     "name": "stdout",
     "output_type": "stream",
     "text": [
      "[['Keith Yaow=>' '7']\n",
      " ['Keith Yaow=>1' '4']\n",
      " ['Keith Yaow=>10' '14']\n",
      " ['Keith Yaow=>11' '16']\n",
      " ['Keith Yaow=>12' '16']\n",
      " ['Keith Yaow=>13' '12']\n",
      " ['Keith Yaow=>14' '2']\n",
      " ['Keith Yaow=>2' '8']\n",
      " ['Keith Yaow=>3' '8']\n",
      " ['Keith Yaow=>4' '12']\n",
      " ['Keith Yaow=>5' '10']\n",
      " ['Keith Yaow=>6' '9']\n",
      " ['Keith Yaow=>7' '12']\n",
      " ['Keith Yaow=>8' '21']\n",
      " ['Keith Yaow=>9' '19']\n",
      " ['Keith Yaow=>NO VOTE' '106']]\n",
      "[['Joceline Yong=>' '5']\n",
      " ['Joceline Yong=>1' '46']\n",
      " ['Joceline Yong=>10' '9']\n",
      " ['Joceline Yong=>11' '12']\n",
      " ['Joceline Yong=>12' '4']\n",
      " ['Joceline Yong=>13' '1']\n",
      " ['Joceline Yong=>14' '1']\n",
      " ['Joceline Yong=>2' '30']\n",
      " ['Joceline Yong=>3' '23']\n",
      " ['Joceline Yong=>4' '26']\n",
      " ['Joceline Yong=>5' '28']\n",
      " ['Joceline Yong=>6' '20']\n",
      " ['Joceline Yong=>7' '13']\n",
      " ['Joceline Yong=>8' '10']\n",
      " ['Joceline Yong=>9' '11']\n",
      " ['Joceline Yong=>NO VOTE' '37']]\n"
     ]
    }
   ],
   "source": [
    "print scipy.stats.itemfreq(home['Keith'])\n",
    "\n",
    "print scipy.stats.itemfreq(home['Joceline'])"
   ]
  },
  {
   "cell_type": "code",
   "execution_count": 167,
   "metadata": {
    "collapsed": true
   },
   "outputs": [],
   "source": [
    "home_2 = home"
   ]
  },
  {
   "cell_type": "code",
   "execution_count": 188,
   "metadata": {
    "collapsed": true
   },
   "outputs": [],
   "source": [
    "#to remove \"No Vote\",\"No\",\"\" and replace them with \"15\" (lowest possible value)\n",
    "\n",
    "def strip_strings(x):\n",
    "    for index in range(0,len(x)):\n",
    "        for second_index in range(0,len(x[0])):\n",
    "            if \"=>\" in x[index][second_index]:\n",
    "                x[index][second_index] = (x[index][second_index]).split(\"=>\")[1].replace('\"',\"\")\n",
    "            \n",
    "    for index in range(0,len(x)):\n",
    "        for second_index in range(0,len(x[0])):\n",
    "            if (x[index][second_index]==\"NO VOTE\")|(x[index][second_index]==\"\")|(x[index][second_index]==\"NO\"):\n",
    "                x[index][second_index]= int(15)\n",
    "            else:\n",
    "                x[index][second_index]= int(x[index][second_index])"
   ]
  },
  {
   "cell_type": "code",
   "execution_count": 189,
   "metadata": {
    "collapsed": false
   },
   "outputs": [],
   "source": [
    "strip_strings(all_data)"
   ]
  },
  {
   "cell_type": "code",
   "execution_count": 187,
   "metadata": {
    "collapsed": false
   },
   "outputs": [
    {
     "data": {
      "text/html": [
       "&lt;Row index=0&gt;\n",
       "<table id=\"table237652512\">\n",
       "<thead><tr><th>Aadit</th><th>Adam</th><th>Annette</th><th>Diamanta</th><th>Isaac</th><th>Isobel</th><th>Jay</th><th>Joceline</th><th>Keith</th><th>Meredith</th><th>Regina</th><th>Ross</th><th>Scott</th><th>Thaddeus</th></tr></thead>\n",
       "<thead><tr><th>str21</th><th>str19</th><th>str19</th><th>str22</th><th>str18</th><th>str19</th><th>str17</th><th>str22</th><th>str19</th><th>str22</th><th>str25</th><th>str20</th><th>str21</th><th>str27</th></tr></thead>\n",
       "<tr><td>6</td><td>11</td><td>3</td><td>13</td><td>14</td><td>15</td><td>15</td><td>5</td><td>2</td><td>5</td><td>7</td><td>12</td><td>6</td><td>1</td></tr>\n",
       "</table>"
      ],
      "text/plain": [
       "<Row index=0>\n",
       "Aadit  Adam Annette Diamanta Isaac Isobel  Jay  Joceline Keith Meredith Regina  Ross Scott Thaddeus\n",
       "str21 str19  str19   str22   str18 str19  str17  str22   str19  str22   str25  str20 str21  str27  \n",
       "----- ----- ------- -------- ----- ------ ----- -------- ----- -------- ------ ----- ----- --------\n",
       "    6    11       3       13    14     15    15        5     2        5      7    12     6        1"
      ]
     },
     "execution_count": 187,
     "metadata": {},
     "output_type": "execute_result"
    }
   ],
   "source": [
    "home_2[0]"
   ]
  },
  {
   "cell_type": "code",
   "execution_count": 180,
   "metadata": {
    "collapsed": true
   },
   "outputs": [],
   "source": [
    "from astropy.table import Table, vstack"
   ]
  },
  {
   "cell_type": "code",
   "execution_count": 178,
   "metadata": {
    "collapsed": true
   },
   "outputs": [],
   "source": [
    "abroad = ascii.read(\"abroad.csv\", names=names)"
   ]
  },
  {
   "cell_type": "code",
   "execution_count": 182,
   "metadata": {
    "collapsed": false
   },
   "outputs": [],
   "source": [
    "all_data = vstack([home, abroad])"
   ]
  },
  {
   "cell_type": "code",
   "execution_count": 184,
   "metadata": {
    "collapsed": false
   },
   "outputs": [
    {
     "data": {
      "text/plain": [
       "['Aadit',\n",
       " 'Adam',\n",
       " 'Annette',\n",
       " 'Diamanta',\n",
       " 'Isaac',\n",
       " 'Isobel',\n",
       " 'Jay',\n",
       " 'Joceline',\n",
       " 'Keith',\n",
       " 'Meredith',\n",
       " 'Regina',\n",
       " 'Ross',\n",
       " 'Scott',\n",
       " 'Thaddeus']"
      ]
     },
     "execution_count": 184,
     "metadata": {},
     "output_type": "execute_result"
    }
   ],
   "source": [
    "names"
   ]
  },
  {
   "cell_type": "code",
   "execution_count": null,
   "metadata": {
    "collapsed": true
   },
   "outputs": [],
   "source": []
  },
  {
   "cell_type": "code",
   "execution_count": null,
   "metadata": {
    "collapsed": true
   },
   "outputs": [],
   "source": []
  },
  {
   "cell_type": "code",
   "execution_count": null,
   "metadata": {
    "collapsed": true
   },
   "outputs": [],
   "source": []
  },
  {
   "cell_type": "code",
   "execution_count": 99,
   "metadata": {
    "collapsed": false
   },
   "outputs": [],
   "source": [
    "values = np.array([np.array([t.split(\"=>\")[1].replace('\"',\"\") for t in home[x]]) for x in range(0, len(home))])"
   ]
  },
  {
   "cell_type": "code",
   "execution_count": 103,
   "metadata": {
    "collapsed": false
   },
   "outputs": [],
   "source": [
    "def array_processor(x):\n",
    "    for index in range(0,len(x)):\n",
    "        if (x[index]!='NO VOTE') & (x[index]!=''):\n",
    "            x[index] = int(x[index])\n",
    "        else:\n",
    "            x[index] = 15"
   ]
  },
  {
   "cell_type": "code",
   "execution_count": 108,
   "metadata": {
    "collapsed": false
   },
   "outputs": [],
   "source": [
    "for x in range(0, len(home)):\n",
    "    array_processor(values[x])"
   ]
  },
  {
   "cell_type": "code",
   "execution_count": 25,
   "metadata": {
    "collapsed": false
   },
   "outputs": [],
   "source": [
    "get_names = home_data[0]"
   ]
  },
  {
   "cell_type": "code",
   "execution_count": 39,
   "metadata": {
    "collapsed": false
   },
   "outputs": [],
   "source": [
    "names = [x.split()[0] for x in get_names]"
   ]
  },
  {
   "cell_type": "code",
   "execution_count": 41,
   "metadata": {
    "collapsed": false
   },
   "outputs": [],
   "source": [
    "names[0] = 'Aadit'"
   ]
  },
  {
   "cell_type": "code",
   "execution_count": 154,
   "metadata": {
    "collapsed": false
   },
   "outputs": [
    {
     "data": {
      "text/plain": [
       "array([['6', '11', '3', ..., '12', '6', '1'],\n",
       "       ['8', '15', '4', ..., '5', '15', '15'],\n",
       "       ['15', '15', '15', ..., '15', '2', '15'],\n",
       "       ..., \n",
       "       ['14', '13', '5', ..., '11', '2', '10'],\n",
       "       ['7', '15', '6', ..., '8', '3', '15'],\n",
       "       ['15', '2', '1', ..., '8', '5', '3']], \n",
       "      dtype='|S7')"
      ]
     },
     "execution_count": 154,
     "metadata": {},
     "output_type": "execute_result"
    }
   ],
   "source": [
    "values"
   ]
  },
  {
   "cell_type": "code",
   "execution_count": 190,
   "metadata": {
    "collapsed": false
   },
   "outputs": [
    {
     "data": {
      "text/html": [
       "&lt;Table length=307&gt;\n",
       "<table id=\"table238554360\">\n",
       "<thead><tr><th>Aadit</th><th>Adam</th><th>Annette</th><th>Diamanta</th><th>Isaac</th><th>Isobel</th><th>Jay</th><th>Joceline</th><th>Keith</th><th>Meredith</th><th>Regina</th><th>Ross</th><th>Scott</th><th>Thaddeus</th></tr></thead>\n",
       "<thead><tr><th>str21</th><th>str19</th><th>str19</th><th>str22</th><th>str18</th><th>str19</th><th>str17</th><th>str22</th><th>str19</th><th>str22</th><th>str25</th><th>str20</th><th>str21</th><th>str27</th></tr></thead>\n",
       "<tr><td>6</td><td>11</td><td>3</td><td>13</td><td>14</td><td>15</td><td>15</td><td>5</td><td>2</td><td>5</td><td>7</td><td>12</td><td>6</td><td>1</td></tr>\n",
       "<tr><td>8</td><td>15</td><td>4</td><td>15</td><td>2</td><td>1</td><td>6</td><td>7</td><td>15</td><td>5</td><td>3</td><td>5</td><td>15</td><td>15</td></tr>\n",
       "<tr><td>15</td><td>15</td><td>15</td><td>15</td><td>15</td><td>15</td><td>1</td><td>15</td><td>15</td><td>15</td><td>3</td><td>15</td><td>2</td><td>15</td></tr>\n",
       "<tr><td>15</td><td>15</td><td>4</td><td>5</td><td>15</td><td>15</td><td>2</td><td>15</td><td>15</td><td>1</td><td>3</td><td>6</td><td>15</td><td>15</td></tr>\n",
       "<tr><td>15</td><td>15</td><td>15</td><td>15</td><td>1</td><td>2</td><td>3</td><td>15</td><td>6</td><td>15</td><td>4</td><td>5</td><td>15</td><td>7</td></tr>\n",
       "<tr><td>15</td><td>10</td><td>9</td><td>2</td><td>1</td><td>3</td><td>5</td><td>4</td><td>11</td><td>7</td><td>6</td><td>8</td><td>15</td><td>12</td></tr>\n",
       "<tr><td>11</td><td>10</td><td>3</td><td>6</td><td>7</td><td>12</td><td>8</td><td>5</td><td>9</td><td>2</td><td>4</td><td>13</td><td>1</td><td>15</td></tr>\n",
       "<tr><td>14</td><td>13</td><td>12</td><td>11</td><td>1</td><td>2</td><td>3</td><td>6</td><td>8</td><td>7</td><td>4</td><td>9</td><td>5</td><td>10</td></tr>\n",
       "<tr><td>4</td><td>14</td><td>8</td><td>13</td><td>1</td><td>11</td><td>5</td><td>2</td><td>9</td><td>3</td><td>10</td><td>6</td><td>7</td><td>12</td></tr>\n",
       "<tr><td>11</td><td>10</td><td>4</td><td>6</td><td>9</td><td>5</td><td>7</td><td>8</td><td>12</td><td>1</td><td>2</td><td>13</td><td>3</td><td>15</td></tr>\n",
       "<tr><td>...</td><td>...</td><td>...</td><td>...</td><td>...</td><td>...</td><td>...</td><td>...</td><td>...</td><td>...</td><td>...</td><td>...</td><td>...</td><td>...</td></tr>\n",
       "<tr><td>10</td><td>13</td><td>6</td><td>1</td><td>7</td><td>4</td><td>11</td><td>5</td><td>9</td><td>3</td><td>2</td><td>12</td><td>8</td><td>15</td></tr>\n",
       "<tr><td>11</td><td>9</td><td>3</td><td>5</td><td>14</td><td>6</td><td>2</td><td>7</td><td>10</td><td>4</td><td>8</td><td>12</td><td>1</td><td>13</td></tr>\n",
       "<tr><td>2</td><td>15</td><td>15</td><td>3</td><td>15</td><td>15</td><td>15</td><td>15</td><td>15</td><td>1</td><td>15</td><td>15</td><td>15</td><td>15</td></tr>\n",
       "<tr><td>15</td><td>15</td><td>6</td><td>7</td><td>4</td><td>11</td><td>2</td><td>5</td><td>10</td><td>3</td><td>1</td><td>9</td><td>15</td><td>8</td></tr>\n",
       "<tr><td>15</td><td>10</td><td>2</td><td>1</td><td>11</td><td>3</td><td>15</td><td>4</td><td>9</td><td>5</td><td>6</td><td>8</td><td>7</td><td>15</td></tr>\n",
       "<tr><td>9</td><td>15</td><td>7</td><td>6</td><td>15</td><td>1</td><td>4</td><td>5</td><td>15</td><td>8</td><td>2</td><td>10</td><td>3</td><td>15</td></tr>\n",
       "<tr><td>15</td><td>15</td><td>1</td><td>2</td><td>15</td><td>6</td><td>7</td><td>3</td><td>15</td><td>4</td><td>5</td><td>15</td><td>15</td><td>15</td></tr>\n",
       "<tr><td>15</td><td>15</td><td>2</td><td>3</td><td>6</td><td>15</td><td>5</td><td>1</td><td>7</td><td>15</td><td>4</td><td>15</td><td>15</td><td>15</td></tr>\n",
       "<tr><td>15</td><td>7</td><td>5</td><td>6</td><td>8</td><td>11</td><td>3</td><td>6</td><td>9</td><td>1</td><td>4</td><td>15</td><td>2</td><td>10</td></tr>\n",
       "<tr><td>15</td><td>15</td><td>2</td><td>1</td><td>15</td><td>15</td><td>15</td><td>15</td><td>15</td><td>15</td><td>3</td><td>15</td><td>15</td><td>15</td></tr>\n",
       "</table>"
      ],
      "text/plain": [
       "<Table length=307>\n",
       "Aadit  Adam Annette Diamanta Isaac ... Meredith Regina  Ross Scott Thaddeus\n",
       "str21 str19  str19   str22   str18 ...  str22   str25  str20 str21  str27  \n",
       "----- ----- ------- -------- ----- ... -------- ------ ----- ----- --------\n",
       "    6    11       3       13    14 ...        5      7    12     6        1\n",
       "    8    15       4       15     2 ...        5      3     5    15       15\n",
       "   15    15      15       15    15 ...       15      3    15     2       15\n",
       "   15    15       4        5    15 ...        1      3     6    15       15\n",
       "   15    15      15       15     1 ...       15      4     5    15        7\n",
       "   15    10       9        2     1 ...        7      6     8    15       12\n",
       "   11    10       3        6     7 ...        2      4    13     1       15\n",
       "   14    13      12       11     1 ...        7      4     9     5       10\n",
       "    4    14       8       13     1 ...        3     10     6     7       12\n",
       "   11    10       4        6     9 ...        1      2    13     3       15\n",
       "  ...   ...     ...      ...   ... ...      ...    ...   ...   ...      ...\n",
       "   10    13       6        1     7 ...        3      2    12     8       15\n",
       "   11     9       3        5    14 ...        4      8    12     1       13\n",
       "    2    15      15        3    15 ...        1     15    15    15       15\n",
       "   15    15       6        7     4 ...        3      1     9    15        8\n",
       "   15    10       2        1    11 ...        5      6     8     7       15\n",
       "    9    15       7        6    15 ...        8      2    10     3       15\n",
       "   15    15       1        2    15 ...        4      5    15    15       15\n",
       "   15    15       2        3     6 ...       15      4    15    15       15\n",
       "   15     7       5        6     8 ...        1      4    15     2       10\n",
       "   15    15       2        1    15 ...       15      3    15    15       15"
      ]
     },
     "execution_count": 190,
     "metadata": {},
     "output_type": "execute_result"
    }
   ],
   "source": [
    "all_data"
   ]
  },
  {
   "cell_type": "code",
   "execution_count": 191,
   "metadata": {
    "collapsed": false
   },
   "outputs": [
    {
     "data": {
      "text/html": [
       "&lt;Row index=0&gt;\n",
       "<table id=\"table238554360\">\n",
       "<thead><tr><th>Aadit</th><th>Adam</th><th>Annette</th><th>Diamanta</th><th>Isaac</th><th>Isobel</th><th>Jay</th><th>Joceline</th><th>Keith</th><th>Meredith</th><th>Regina</th><th>Ross</th><th>Scott</th><th>Thaddeus</th></tr></thead>\n",
       "<thead><tr><th>str21</th><th>str19</th><th>str19</th><th>str22</th><th>str18</th><th>str19</th><th>str17</th><th>str22</th><th>str19</th><th>str22</th><th>str25</th><th>str20</th><th>str21</th><th>str27</th></tr></thead>\n",
       "<tr><td>6</td><td>11</td><td>3</td><td>13</td><td>14</td><td>15</td><td>15</td><td>5</td><td>2</td><td>5</td><td>7</td><td>12</td><td>6</td><td>1</td></tr>\n",
       "</table>"
      ],
      "text/plain": [
       "<Row index=0>\n",
       "Aadit  Adam Annette Diamanta Isaac Isobel  Jay  Joceline Keith Meredith Regina  Ross Scott Thaddeus\n",
       "str21 str19  str19   str22   str18 str19  str17  str22   str19  str22   str25  str20 str21  str27  \n",
       "----- ----- ------- -------- ----- ------ ----- -------- ----- -------- ------ ----- ----- --------\n",
       "    6    11       3       13    14     15    15        5     2        5      7    12     6        1"
      ]
     },
     "execution_count": 191,
     "metadata": {},
     "output_type": "execute_result"
    }
   ],
   "source": [
    "all_data[0]"
   ]
  },
  {
   "cell_type": "code",
   "execution_count": 197,
   "metadata": {
    "collapsed": false
   },
   "outputs": [],
   "source": [
    "t = [[(0,0,0) for x in range(14)] for x in range(14)]"
   ]
  },
  {
   "cell_type": "code",
   "execution_count": 198,
   "metadata": {
    "collapsed": false
   },
   "outputs": [
    {
     "data": {
      "text/plain": [
       "(0, 0, 0)"
      ]
     },
     "execution_count": 198,
     "metadata": {},
     "output_type": "execute_result"
    }
   ],
   "source": [
    "t[0][0]"
   ]
  },
  {
   "cell_type": "code",
   "execution_count": null,
   "metadata": {
    "collapsed": true
   },
   "outputs": [],
   "source": [
    "def match_func(x,y):\n",
    "    table"
   ]
  },
  {
   "cell_type": "code",
   "execution_count": null,
   "metadata": {
    "collapsed": true
   },
   "outputs": [],
   "source": [
    "#take a given permutation and tabulate score\n",
    "def get_score(perm):\n",
    "    score= np.zeros(len(perm))\n",
    "    for x in range(0, len(perm)-1):\n",
    "        for y in range(x,len(perm)):\n",
    "            score[y]= score[y] + match_func(perm[x],perm[y])\n",
    "    return score"
   ]
  }
 ],
 "metadata": {
  "kernelspec": {
   "display_name": "Python 2",
   "language": "python",
   "name": "python2"
  },
  "language_info": {
   "codemirror_mode": {
    "name": "ipython",
    "version": 2
   },
   "file_extension": ".py",
   "mimetype": "text/x-python",
   "name": "python",
   "nbconvert_exporter": "python",
   "pygments_lexer": "ipython2",
   "version": "2.7.11"
  }
 },
 "nbformat": 4,
 "nbformat_minor": 0
}
