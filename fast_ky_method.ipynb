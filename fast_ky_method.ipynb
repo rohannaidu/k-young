{
 "cells": [
  {
   "cell_type": "code",
   "execution_count": 37,
   "metadata": {
    "collapsed": true
   },
   "outputs": [],
   "source": [
    "# here we use the fast implementation of kemeny-young using graphs and integer programming found here:\n",
    "#http://vene.ro/blog/kemeny-young-optimal-rank-aggregation-in-python.html\n",
    "\n",
    "from __future__ import print_function\n",
    "import numpy as np\n",
    "from itertools import combinations, permutations\n",
    "from lp_solve import lp_solve\n",
    "import csv"
   ]
  },
  {
   "cell_type": "code",
   "execution_count": 38,
   "metadata": {
    "collapsed": true
   },
   "outputs": [],
   "source": [
    "def kendalltau_dist(rank_a, rank_b):\n",
    "    tau = 0\n",
    "    n_candidates = len(rank_a)\n",
    "    for i, j in combinations(range(n_candidates), 2):\n",
    "        tau += (np.sign(rank_a[i] - rank_a[j]) ==\n",
    "                -np.sign(rank_b[i] - rank_b[j]))\n",
    "    return tau"
   ]
  },
  {
   "cell_type": "code",
   "execution_count": 39,
   "metadata": {
    "collapsed": false
   },
   "outputs": [
    {
     "data": {
      "text/plain": [
       "0"
      ]
     },
     "execution_count": 39,
     "metadata": {},
     "output_type": "execute_result"
    }
   ],
   "source": [
    "#dummy data found at aforementioned website\n",
    "cols = \"Alicia Ginny Gwendolyn Robin Debbie\".split()\n",
    "ranks = np.array([[0, 1, 2, 3, 4],\n",
    "                  [0, 1, 3, 2, 4],\n",
    "                  [4, 1, 2, 0, 3],\n",
    "                  [4, 1, 0, 2, 3],\n",
    "                  [4, 1, 3, 2, 0]])\n",
    "\n",
    "#sanity check: this should be zero\n",
    "kendalltau_dist(ranks[0], ranks[0])"
   ]
  },
  {
   "cell_type": "code",
   "execution_count": 40,
   "metadata": {
    "collapsed": false
   },
   "outputs": [
    {
     "name": "stdout",
     "output_type": "stream",
     "text": [
      "d(athletic_wizard, prophet) = 1\n",
      "d(athletic_wizard, seeker) = 5\n"
     ]
    }
   ],
   "source": [
    "#matches what is expected\n",
    "print('d(athletic_wizard, prophet) = {}'.format(kendalltau_dist(ranks[0], ranks[1])))\n",
    "print('d(athletic_wizard, seeker) = {}'.format(kendalltau_dist(ranks[0], ranks[3])))"
   ]
  },
  {
   "cell_type": "code",
   "execution_count": 41,
   "metadata": {
    "collapsed": true
   },
   "outputs": [],
   "source": [
    "#graph-distance conversion of ranks\n",
    "def _build_graph(ranks):\n",
    "    n_voters, n_candidates = ranks.shape\n",
    "    edge_weights = np.zeros((n_candidates, n_candidates))\n",
    "    for i, j in combinations(range(n_candidates), 2):\n",
    "        preference = ranks[:, i] - ranks[:, j]\n",
    "        h_ij = np.sum(preference < 0)  # prefers i to j\n",
    "        h_ji = np.sum(preference > 0)  # prefers j to i\n",
    "        if h_ij > h_ji:\n",
    "            edge_weights[i, j] = h_ij - h_ji\n",
    "        elif h_ij < h_ji:\n",
    "            edge_weights[j, i] = h_ji - h_ij\n",
    "    return edge_weights"
   ]
  },
  {
   "cell_type": "code",
   "execution_count": 42,
   "metadata": {
    "collapsed": false
   },
   "outputs": [
    {
     "name": "stdout",
     "output_type": "stream",
     "text": [
      "[[ 0.  0.  0.  0.  0.]\n",
      " [ 1.  0.  3.  3.  3.]\n",
      " [ 1.  0.  0.  0.  3.]\n",
      " [ 1.  0.  1.  0.  3.]\n",
      " [ 1.  0.  0.  0.  0.]]\n"
     ]
    }
   ],
   "source": [
    "print(_build_graph(ranks))\n",
    "#as expected from website. we are doing good!"
   ]
  },
  {
   "cell_type": "code",
   "execution_count": 43,
   "metadata": {
    "collapsed": false
   },
   "outputs": [],
   "source": [
    "#function that actually calculates k-y ranks by implementing fancy integer programming\n",
    "def rankaggr_lp(ranks):\n",
    "    \"\"\"Kemeny-Young optimal rank aggregation\"\"\"\n",
    "\n",
    "    n_voters, n_candidates = ranks.shape\n",
    "    \n",
    "    # maximize c.T * x\n",
    "    edge_weights = _build_graph(ranks)\n",
    "    c = -1 * edge_weights.ravel()  \n",
    "\n",
    "    idx = lambda i, j: n_candidates * i + j\n",
    "\n",
    "    # constraints for every pair\n",
    "    pairwise_constraints = np.zeros(((n_candidates * (n_candidates - 1)) / 2,\n",
    "                                     n_candidates ** 2))\n",
    "    for row, (i, j) in zip(pairwise_constraints,\n",
    "                           combinations(range(n_candidates), 2)):\n",
    "        row[[idx(i, j), idx(j, i)]] = 1\n",
    "\n",
    "    # and for every cycle of length 3\n",
    "    triangle_constraints = np.zeros(((n_candidates * (n_candidates - 1) *\n",
    "                                     (n_candidates - 2)),\n",
    "                                     n_candidates ** 2))\n",
    "    for row, (i, j, k) in zip(triangle_constraints,\n",
    "                              permutations(range(n_candidates), 3)):\n",
    "        row[[idx(i, j), idx(j, k), idx(k, i)]] = 1\n",
    "\n",
    "    constraints = np.vstack([pairwise_constraints, triangle_constraints])\n",
    "    constraint_rhs = np.hstack([np.ones(len(pairwise_constraints)),\n",
    "                                np.ones(len(triangle_constraints))])\n",
    "    constraint_signs = np.hstack([np.zeros(len(pairwise_constraints)),  # ==\n",
    "                                  np.ones(len(triangle_constraints))])  # >=\n",
    "\n",
    "    obj, x, duals = lp_solve(c, constraints, constraint_rhs, constraint_signs,\n",
    "                             xint=range(1, 1 + n_candidates ** 2))\n",
    "\n",
    "    x = np.array(x).reshape((n_candidates, n_candidates))\n",
    "    aggr_rank = x.sum(axis=1)\n",
    "\n",
    "    return obj, aggr_rank"
   ]
  },
  {
   "cell_type": "code",
   "execution_count": 44,
   "metadata": {
    "collapsed": false
   },
   "outputs": [
    {
     "name": "stdout",
     "output_type": "stream",
     "text": [
      "A Kemeny-Young aggregation with score 10 is: Ginny, Alicia, Robin, Gwendolyn, Debbie\n"
     ]
    }
   ],
   "source": [
    "#here I play around with the data by screwing with the ranks to see if it's working as expected.\n",
    "#I try same ranks for multiple people, same rank for all but one, etc to see how edge case behaviour pans out\n",
    "cols = \"Alicia Ginny Gwendolyn Robin Debbie\".split()\n",
    "ranks = np.array([[1, 1, 2, 3, 15],\n",
    "                  [1, 1, 3, 2, 15],\n",
    "                  [1, 1, 2, 0, 3],\n",
    "                  [1, 1, 0, 2, 3],\n",
    "                  [1, 1, 3, 2, 0]])\n",
    "\n",
    "_, aggr = rankaggr_lp(ranks)\n",
    "score = np.sum(kendalltau_dist(aggr, rank) for rank in ranks)\n",
    "print(\"A Kemeny-Young aggregation with score {} is: {}\".format(\n",
    "    score,\n",
    "    \", \".join(cols[i] for i in np.argsort(aggr))))"
   ]
  },
  {
   "cell_type": "code",
   "execution_count": 45,
   "metadata": {
    "collapsed": false
   },
   "outputs": [
    {
     "name": "stdout",
     "output_type": "stream",
     "text": [
      "A Kemeny-Young aggregation with score 207 is: N, C, K, M\n"
     ]
    }
   ],
   "source": [
    "#here I implement the wikipedia example to test if this implementation is robust--it is!\n",
    "# https://en.wikipedia.org/wiki/Kemeny%E2%80%93Young_method#Example\n",
    "city_names= ['M', 'N', 'C','K']\n",
    "\n",
    "pref_1 = [1,2,3,4]\n",
    "pref_2 = [4,1,2,3]\n",
    "pref_3 = [4,3,1,2]\n",
    "pref_4 = [4,3,2,1]\n",
    "\n",
    "all_data = np.array([1,1,1,1])\n",
    "\n",
    "for x in range(0,42):\n",
    "    all_data = np.vstack((all_data, pref_1))\n",
    "\n",
    "for x in range(0,26):\n",
    "    all_data = np.vstack((all_data, pref_2))\n",
    "\n",
    "for x in range(0,15):\n",
    "    all_data = np.vstack((all_data, pref_3))\n",
    "\n",
    "for x in range(0,17):\n",
    "    all_data = np.vstack((all_data, pref_4))\n",
    "    \n",
    "    \n",
    "_, aggr = rankaggr_lp(all_data)\n",
    "score = np.sum(kendalltau_dist(aggr, rank) for rank in all_data)\n",
    "print(\"A Kemeny-Young aggregation with score {} is: {}\".format(\n",
    "    score,\n",
    "    \", \".join(city_names[i] for i in np.argsort(aggr))))\n",
    "\n",
    "#notice here that the \"score\" is different from wikipedia. this is because we are counting kendall-tau distances now,\n",
    "#not entries from a frequency table."
   ]
  },
  {
   "cell_type": "code",
   "execution_count": 46,
   "metadata": {
    "collapsed": false
   },
   "outputs": [
    {
     "name": "stdout",
     "output_type": "stream",
     "text": [
      "A Kemeny-Young aggregation with score 7785 is: Regina, Joceline, Annette, Meredith, Jay, Isobel, Diamanta, Isaac, Scott, Ross, Keith, Adam, Aadit, Thaddeus\n"
     ]
    }
   ],
   "source": [
    "#and now to the YNC case!\n",
    "\n",
    "names = ['Aadit', 'Adam', 'Annette', 'Diamanta', 'Isaac', 'Isobel', 'Jay', 'Joceline', 'Keith',\\\n",
    "         'Meredith', 'Regina', 'Ross', 'Scott', 'Thaddeus']\n",
    "\n",
    "#we use the table we cleaned up in \"clean_ky_method.ipynb\"\n",
    "\n",
    "with open('test_file.csv', 'r') as csvfile:\n",
    "    reader = csv.reader(csvfile)\n",
    "    prefs = np.array([[int(e) for e in r] for r in reader])\n",
    "\n",
    "#this gives the optimal ranking\n",
    "\n",
    "_, aggr = rankaggr_lp(prefs)\n",
    "score = np.sum(kendalltau_dist(aggr, rank) for rank in prefs)\n",
    "print(\"A Kemeny-Young aggregation with score {} is: {}\".format(\n",
    "    score,\n",
    "    \", \".join(names[i] for i in np.argsort(aggr))))"
   ]
  }
 ],
 "metadata": {
  "kernelspec": {
   "display_name": "Python 2",
   "language": "python",
   "name": "python2"
  },
  "language_info": {
   "codemirror_mode": {
    "name": "ipython",
    "version": 2
   },
   "file_extension": ".py",
   "mimetype": "text/x-python",
   "name": "python",
   "nbconvert_exporter": "python",
   "pygments_lexer": "ipython2",
   "version": "2.7.11"
  }
 },
 "nbformat": 4,
 "nbformat_minor": 0
}
